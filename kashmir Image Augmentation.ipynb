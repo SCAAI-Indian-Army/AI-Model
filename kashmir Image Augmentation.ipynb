{
 "cells": [
  {
   "cell_type": "code",
   "execution_count": 1,
   "metadata": {},
   "outputs": [],
   "source": [
    "import cv2\n",
    "import numpy as np\n",
    "import pandas as pd\n",
    "import matplotlib.pyplot as plt\n",
    "from keras_preprocessing.image import ImageDataGenerator"
   ]
  },
  {
   "cell_type": "code",
   "execution_count": 2,
   "metadata": {},
   "outputs": [],
   "source": [
    "X = []\n",
    "y = []\n",
    "i = 0\n",
    "n = 101\n",
    "size = (160,160)"
   ]
  },
  {
   "cell_type": "code",
   "execution_count": 3,
   "metadata": {},
   "outputs": [],
   "source": [
    "file = \"Desktop/AI_KASHIR/\""
   ]
  },
  {
   "cell_type": "code",
   "execution_count": 4,
   "metadata": {},
   "outputs": [],
   "source": [
    "while(i != n):\n",
    "    path = \"Profile_id\"+str(i)+\".png\"\n",
    "    file_path = file + path\n",
    "    img = cv2.imread(file_path)\n",
    "    img = cv2.cvtColor(img, cv2.COLOR_BGR2RGB)\n",
    "    img = cv2.resize(img, size)\n",
    "    X.append(img)\n",
    "    y.append(i)\n",
    "    i+=1"
   ]
  },
  {
   "cell_type": "code",
   "execution_count": 5,
   "metadata": {},
   "outputs": [],
   "source": [
    "datagen = ImageDataGenerator(rotation_range=40, horizontal_flip=True)"
   ]
  },
  {
   "cell_type": "code",
   "execution_count": 6,
   "metadata": {},
   "outputs": [],
   "source": [
    "X = np.array(X)\n",
    "y = np.array(y) "
   ]
  },
  {
   "cell_type": "code",
   "execution_count": 16,
   "metadata": {},
   "outputs": [
    {
     "name": "stdout",
     "output_type": "stream",
     "text": [
      "==========="
     ]
    }
   ],
   "source": [
    "for j in range(len(X)):\n",
    "    img = np.reshape(X[j], (1,160,160,3))\n",
    "    label = \"ProfileID\"+str(j)\n",
    "    address = \"Desktop/Kashmir Augmentation/Train/\"\n",
    "    i=0\n",
    "    for batch in datagen.flow(img,batch_size=1, save_to_dir=address, save_prefix=label , save_format=\"jpg\"):\n",
    "        if(i < 7):\n",
    "            address = \"Desktop/Kashmir Augmentation/Test/\"\n",
    "            i+=1\n",
    "        else:\n",
    "            break\n",
    "    address = \"Desktop/Kashmir Augmentation/Test/\"\n",
    "    for batch in datagen.flow(img,batch_size=1, save_to_dir=address, save_prefix=label , save_format=\"jpg\"):\n",
    "        if(i < 3):\n",
    "            address = \"Desktop/Kashmir Augmentation/Test/\"\n",
    "            i+=1\n",
    "        else:\n",
    "            break\n",
    "    if(j%10 == 0):\n",
    "            print(\"=\",end=\"\")\n"
   ]
  },
  {
   "cell_type": "code",
   "execution_count": null,
   "metadata": {},
   "outputs": [],
   "source": []
  }
 ],
 "metadata": {
  "kernelspec": {
   "display_name": "Python 3",
   "language": "python",
   "name": "python3"
  },
  "language_info": {
   "codemirror_mode": {
    "name": "ipython",
    "version": 3
   },
   "file_extension": ".py",
   "mimetype": "text/x-python",
   "name": "python",
   "nbconvert_exporter": "python",
   "pygments_lexer": "ipython3",
   "version": "3.7.1"
  }
 },
 "nbformat": 4,
 "nbformat_minor": 2
}
